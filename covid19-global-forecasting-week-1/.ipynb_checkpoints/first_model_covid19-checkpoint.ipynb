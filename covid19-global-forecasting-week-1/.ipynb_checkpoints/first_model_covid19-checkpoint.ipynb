{
 "cells": [
  {
   "cell_type": "code",
   "execution_count": 1,
   "metadata": {},
   "outputs": [],
   "source": [
    "import pandas as pd"
   ]
  },
  {
   "cell_type": "code",
   "execution_count": 5,
   "metadata": {},
   "outputs": [
    {
     "data": {
      "text/plain": [
       "'2020-04-23'"
      ]
     },
     "execution_count": 5,
     "metadata": {},
     "output_type": "execute_result"
    }
   ],
   "source": [
    "#Check datatypes\n",
    "train_data=pd.read_csv('./train.csv')\n",
    "test_data=pd.read_csv('./test.csv')\n",
    "submission_data=pd.read_csv('./submission.csv')\n",
    "test_data.Date.max()"
   ]
  },
  {
   "cell_type": "code",
   "execution_count": 324,
   "metadata": {},
   "outputs": [
    {
     "data": {
      "text/html": [
       "<div>\n",
       "<style scoped>\n",
       "    .dataframe tbody tr th:only-of-type {\n",
       "        vertical-align: middle;\n",
       "    }\n",
       "\n",
       "    .dataframe tbody tr th {\n",
       "        vertical-align: top;\n",
       "    }\n",
       "\n",
       "    .dataframe thead th {\n",
       "        text-align: right;\n",
       "    }\n",
       "</style>\n",
       "<table border=\"1\" class=\"dataframe\">\n",
       "  <thead>\n",
       "    <tr style=\"text-align: right;\">\n",
       "      <th></th>\n",
       "      <th>ForecastId</th>\n",
       "      <th>ConfirmedCases</th>\n",
       "      <th>Fatalities</th>\n",
       "    </tr>\n",
       "  </thead>\n",
       "  <tbody>\n",
       "    <tr>\n",
       "      <td>0</td>\n",
       "      <td>1</td>\n",
       "      <td>1</td>\n",
       "      <td>1</td>\n",
       "    </tr>\n",
       "    <tr>\n",
       "      <td>1</td>\n",
       "      <td>2</td>\n",
       "      <td>1</td>\n",
       "      <td>1</td>\n",
       "    </tr>\n",
       "    <tr>\n",
       "      <td>2</td>\n",
       "      <td>3</td>\n",
       "      <td>1</td>\n",
       "      <td>1</td>\n",
       "    </tr>\n",
       "    <tr>\n",
       "      <td>3</td>\n",
       "      <td>4</td>\n",
       "      <td>1</td>\n",
       "      <td>1</td>\n",
       "    </tr>\n",
       "    <tr>\n",
       "      <td>4</td>\n",
       "      <td>5</td>\n",
       "      <td>1</td>\n",
       "      <td>1</td>\n",
       "    </tr>\n",
       "  </tbody>\n",
       "</table>\n",
       "</div>"
      ],
      "text/plain": [
       "   ForecastId  ConfirmedCases  Fatalities\n",
       "0           1               1           1\n",
       "1           2               1           1\n",
       "2           3               1           1\n",
       "3           4               1           1\n",
       "4           5               1           1"
      ]
     },
     "execution_count": 324,
     "metadata": {},
     "output_type": "execute_result"
    }
   ],
   "source": [
    "submission_data.head()"
   ]
  },
  {
   "cell_type": "code",
   "execution_count": 15,
   "metadata": {},
   "outputs": [],
   "source": [
    "#Renaming attributes \n",
    "train_data=train_data.rename(columns={\"Province/State\": \"State\", \"Country/Region\": \"Country\"})\n",
    "test_data=test_data.rename(columns={\"Province/State\": \"State\", \"Country/Region\": \"Country\",\"ForecastId\":\"Id\"})\n"
   ]
  },
  {
   "cell_type": "code",
   "execution_count": 216,
   "metadata": {},
   "outputs": [],
   "source": [
    "#Below module gets total population by country returns list having country name and population for train data\n",
    "from restcountries import RestCountryApiV2 as rapi\n",
    "countries=train_data.Country\n",
    "countries = list(dict.fromkeys(countries))\n",
    "cntry_population=[]\n",
    "j=0\n",
    "for i in countries:\n",
    "    try:\n",
    "        country_list = rapi.get_countries_by_name(i)\n",
    "        for pop in country_list:\n",
    "            try:\n",
    "                populate=pop.population\n",
    "                cntry_population.append(cntry_population.insert(j,[pop.name,populate]))\n",
    "                j=j+1\n",
    "            except Exception as e:\n",
    "                print(e)\n",
    "                pass\n",
    "    except:\n",
    "        pass"
   ]
  },
  {
   "cell_type": "code",
   "execution_count": 436,
   "metadata": {},
   "outputs": [
    {
     "data": {
      "text/plain": [
       "{'Afghanistan': [27657145],\n",
       " 'Albania': [2886026],\n",
       " 'Algeria': [40400000],\n",
       " 'Andorra': [78014],\n",
       " 'Antigua and Barbuda': [86295],\n",
       " 'Argentina': [43590400],\n",
       " 'Armenia': [2994400],\n",
       " 'Aruba': [107394],\n",
       " 'Australia': [24117360, 24117360],\n",
       " 'Austria': [8725931, 8725931],\n",
       " 'Azerbaijan': [9730500],\n",
       " 'Bahrain': [1404900],\n",
       " 'Bangladesh': [161006790],\n",
       " 'Barbados': [285000],\n",
       " 'Belarus': [9498700, 9498700],\n",
       " 'Belgium': [11319511],\n",
       " 'Benin': [10653654],\n",
       " 'Bhutan': [775620],\n",
       " 'Bolivia (Plurinational State of)': [10985059],\n",
       " 'Bosnia and Herzegovina': [3531159],\n",
       " 'Brazil': [206135893],\n",
       " 'Brunei Darussalam': [411900, 411900],\n",
       " 'Bulgaria': [7153784],\n",
       " 'Burkina Faso': [19034397],\n",
       " 'Cambodia': [15626444],\n",
       " 'Cameroon': [22709892],\n",
       " 'Canada': [36155487],\n",
       " 'Central African Republic': [4998000],\n",
       " 'Chile': [18191900],\n",
       " 'China': [1377422166],\n",
       " 'Macao': [649100],\n",
       " 'Taiwan': [23503349],\n",
       " 'Colombia': [48759958],\n",
       " 'Costa Rica': [4890379],\n",
       " \"Côte d'Ivoire\": [22671331],\n",
       " 'Croatia': [4190669],\n",
       " 'Cuba': [11239004],\n",
       " 'Cyprus': [847000, 847000],\n",
       " 'Denmark': [5717014],\n",
       " 'Djibouti': [900000],\n",
       " 'Dominican Republic': [10075045],\n",
       " 'Ecuador': [16545799],\n",
       " 'Egypt': [91290000],\n",
       " 'Equatorial Guinea': [1222442, 1222442],\n",
       " 'Estonia': [1315944],\n",
       " 'Swaziland': [1132657, 1132657],\n",
       " 'Ethiopia': [92206005],\n",
       " 'Finland': [5491817],\n",
       " 'France': [66710000],\n",
       " 'French Guiana': [254541],\n",
       " 'Gabon': [1802278],\n",
       " 'Georgia': [3720400],\n",
       " 'South Georgia and the South Sandwich Islands': [30],\n",
       " 'Germany': [81770900],\n",
       " 'Ghana': [27670174],\n",
       " 'Greece': [10858018],\n",
       " 'Greenland': [55847],\n",
       " 'Guadeloupe': [400132],\n",
       " 'Guam': [184200],\n",
       " 'Guatemala': [16176133],\n",
       " 'Guernsey': [62999],\n",
       " 'Guinea': [12947000],\n",
       " 'Guinea-Bissau': [1547777],\n",
       " 'Papua New Guinea': [8083700],\n",
       " 'Guyana': [746900],\n",
       " 'Holy See': [451],\n",
       " 'Honduras': [8576532],\n",
       " 'Hungary': [9823000],\n",
       " 'Iceland': [334300],\n",
       " 'British Indian Ocean Territory': [3000],\n",
       " 'India': [1295210000],\n",
       " 'Indonesia': [258705000],\n",
       " 'Iran (Islamic Republic of)': [79369900],\n",
       " 'Cook Islands': [18100],\n",
       " 'Iraq': [37883543],\n",
       " 'Ireland': [6378000],\n",
       " 'United Kingdom of Great Britain and Northern Ireland': [65110000, 65110000],\n",
       " 'Israel': [8527400],\n",
       " 'Italy': [60665551],\n",
       " 'Jamaica': [2723246],\n",
       " 'Japan': [126960000],\n",
       " 'Jersey': [100800],\n",
       " 'Jordan': [9531712],\n",
       " 'Kazakhstan': [17753200],\n",
       " 'Kenya': [47251000],\n",
       " 'Republic of Kosovo': [1733842],\n",
       " 'Kuwait': [4183658],\n",
       " 'Kyrgyzstan': [6047800],\n",
       " 'Latvia': [1961600],\n",
       " 'Lebanon': [5988000],\n",
       " 'Liberia': [4615000],\n",
       " 'Liechtenstein': [37623],\n",
       " 'Lithuania': [2872294],\n",
       " 'Luxembourg': [576200, 576200],\n",
       " 'Malaysia': [31405416],\n",
       " 'Maldives': [344023],\n",
       " 'Malta': [425384],\n",
       " 'Martinique': [378243],\n",
       " 'Mauritania': [3718678],\n",
       " 'Mauritius': [1262879, 1262879],\n",
       " 'Mayotte': [226915],\n",
       " 'Mexico': [122273473],\n",
       " 'Moldova (Republic of)': [3553100],\n",
       " 'Monaco': [38400],\n",
       " 'Mongolia': [3093100],\n",
       " 'Montenegro': [621810],\n",
       " 'Morocco': [33337529],\n",
       " 'Namibia': [2324388],\n",
       " 'Nepal': [28431500],\n",
       " 'Netherlands': [17019800],\n",
       " 'New Zealand': [4697854],\n",
       " 'Nigeria': [186988000],\n",
       " 'Norway': [5223256],\n",
       " 'Oman': [4420133],\n",
       " 'Romania': [19861408, 19861408],\n",
       " 'Pakistan': [194125062],\n",
       " 'Panama': [3814672],\n",
       " 'Paraguay': [6854536],\n",
       " 'Peru': [31488700],\n",
       " 'Philippines': [103279800],\n",
       " 'Poland': [38437239],\n",
       " 'Portugal': [10374822],\n",
       " 'Puerto Rico': [3474182],\n",
       " 'Qatar': [2587564],\n",
       " 'Réunion': [840974],\n",
       " 'Russian Federation': [146599183, 146599183],\n",
       " 'Rwanda': [11553188],\n",
       " 'Saint Lucia': [186000],\n",
       " 'Saint Vincent and the Grenadines': [109991],\n",
       " 'San Marino': [33005],\n",
       " 'Saudi Arabia': [32248200],\n",
       " 'Senegal': [14799859],\n",
       " 'Serbia': [7076372],\n",
       " 'Seychelles': [91400],\n",
       " 'Singapore': [5535000],\n",
       " 'Slovakia': [5426252],\n",
       " 'Slovenia': [2064188],\n",
       " 'Somalia': [11079000],\n",
       " 'South Africa': [55653654],\n",
       " 'Spain': [46438422],\n",
       " 'Sri Lanka': [20966000],\n",
       " 'South Sudan': [12131000],\n",
       " 'Sudan': [39598700],\n",
       " 'Suriname': [541638],\n",
       " 'Sweden': [9894888],\n",
       " 'Switzerland': [8341600],\n",
       " 'Tanzania, United Republic of': [55155000],\n",
       " 'Thailand': [65327652],\n",
       " 'Bahamas': [378040],\n",
       " 'Gambia': [1882450],\n",
       " 'Togo': [7143000],\n",
       " 'Trinidad and Tobago': [1349667],\n",
       " 'Tunisia': [11154400],\n",
       " 'Turkey': [78741053],\n",
       " 'Bonaire, Sint Eustatius and Saba': [17408],\n",
       " 'Virgin Islands (U.S.)': [114743],\n",
       " 'Lesotho': [1894194],\n",
       " 'United States of America': [323947000],\n",
       " 'Ukraine': [42692393],\n",
       " 'United Arab Emirates': [9856000],\n",
       " 'Uruguay': [3480222],\n",
       " 'Uzbekistan': [31576400],\n",
       " 'Venezuela (Bolivarian Republic of)': [31028700],\n",
       " 'Viet Nam': [92700000],\n",
       " 'Zambia': [15933883]}"
      ]
     },
     "execution_count": 436,
     "metadata": {},
     "output_type": "execute_result"
    }
   ],
   "source": [
    "dictionary"
   ]
  },
  {
   "cell_type": "code",
   "execution_count": 420,
   "metadata": {},
   "outputs": [
    {
     "data": {
      "text/plain": [
       "Index(['Id', 'State', 'Country', 'Lat', 'Long', 'Date', 'ConfirmedCases',\n",
       "       'Fatalities', 'DateTimeStamp', 'WeekNumber', 'Month', 'Day',\n",
       "       'population', 'Year'],\n",
       "      dtype='object')"
      ]
     },
     "execution_count": 420,
     "metadata": {},
     "output_type": "execute_result"
    }
   ],
   "source": [
    "train_data.columns"
   ]
  },
  {
   "cell_type": "code",
   "execution_count": 446,
   "metadata": {},
   "outputs": [],
   "source": [
    "#Below module creates a new column having disctionary values for train data\n",
    "import re\n",
    "train_data['population']=train_data['Country'].apply(lambda x:str(dictionary.get(x)).replace(']','').replace('[',''))\n",
    "train_data['population']=train_data['population'].astype(str)\n",
    "train_data['WeekNumber']=train_data['WeekNumber'].astype(int)\n",
    "train_data['Month']=train_data['Month'].astype(int)\n",
    "train_data['Day']=train_data['Day'].astype(int)\n",
    "train_data['Year']=train_data['Year'].astype(int)"
   ]
  },
  {
   "cell_type": "code",
   "execution_count": 447,
   "metadata": {},
   "outputs": [],
   "source": [
    "train_data['population']=train_data.population.apply(lambda x:re.sub('9498700, 9498700','9498700',x))\n",
    "train_data['population']=train_data.population.apply(lambda x:re.sub('847000, 847000','847000',x))\n",
    "train_data['population']=train_data.population.apply(lambda x:re.sub('1222442, 1222442','1222442',x))\n",
    "train_data['population']=train_data.population.apply(lambda x:re.sub('1132657, 1132657','1132657',x))\n",
    "train_data['population']=train_data.population.apply(lambda x:re.sub('65110000, 65110000','65110000',x))\n",
    "train_data['population']=train_data.population.apply(lambda x:re.sub('576200, 576200','576200',x))\n",
    "train_data['population']=train_data.population.apply(lambda x:re.sub('1262879, 1262879','1262879',x))\n",
    "train_data['population']=train_data.population.apply(lambda x:re.sub('146599183, 146599183','146599183',x))\n",
    "train_data['population']=train_data.population.apply(lambda x:re.sub('24117360, 24117360','24117360',x))\n",
    "train_data['population']=train_data.population.apply(lambda x:re.sub('411900, 411900','411900',x))\n",
    "train_data['population']=train_data.population.apply(lambda x:re.sub('8725931, 8725931','8725931',x))\n",
    "train_data['population']=train_data.population.apply(lambda x:re.sub('19861408, 19861408','19861408',x))\n",
    "train_data['population']=train_data.population.apply(lambda x:re.sub('None','0',x))\n",
    "train_data['population']=train_data['population'].astype(int)"
   ]
  },
  {
   "cell_type": "code",
   "execution_count": 329,
   "metadata": {},
   "outputs": [],
   "source": [
    "#Below module gets total population by country returns list having country name and population for test data\n",
    "from restcountries import RestCountryApiV2 as rapi\n",
    "countries=test_data.Country\n",
    "countries = list(dict.fromkeys(countries))\n",
    "cntry_population_test=[]\n",
    "j=0\n",
    "for i in countries:\n",
    "    try:\n",
    "        country_list = rapi.get_countries_by_name(i)\n",
    "        for pop in country_list:\n",
    "            try:\n",
    "                populate=pop.population\n",
    "                cntry_population_test.append(cntry_population_test.insert(j,[pop.name,populate]))\n",
    "                j=j+1\n",
    "            except Exception as e:\n",
    "                print(e)\n",
    "                pass\n",
    "    except:\n",
    "        pass"
   ]
  },
  {
   "cell_type": "code",
   "execution_count": 330,
   "metadata": {},
   "outputs": [
    {
     "data": {
      "text/plain": [
       "{'Afghanistan': [27657145],\n",
       " 'Albania': [2886026],\n",
       " 'Algeria': [40400000],\n",
       " 'Andorra': [78014],\n",
       " 'Antigua and Barbuda': [86295],\n",
       " 'Argentina': [43590400],\n",
       " 'Armenia': [2994400],\n",
       " 'Aruba': [107394],\n",
       " 'Australia': [24117360, 24117360],\n",
       " 'Austria': [8725931, 8725931],\n",
       " 'Azerbaijan': [9730500],\n",
       " 'Bahrain': [1404900],\n",
       " 'Bangladesh': [161006790],\n",
       " 'Barbados': [285000],\n",
       " 'Belarus': [9498700, 9498700],\n",
       " 'Belgium': [11319511],\n",
       " 'Benin': [10653654],\n",
       " 'Bhutan': [775620],\n",
       " 'Bolivia (Plurinational State of)': [10985059],\n",
       " 'Bosnia and Herzegovina': [3531159],\n",
       " 'Brazil': [206135893],\n",
       " 'Brunei Darussalam': [411900, 411900],\n",
       " 'Bulgaria': [7153784],\n",
       " 'Burkina Faso': [19034397],\n",
       " 'Cambodia': [15626444],\n",
       " 'Cameroon': [22709892],\n",
       " 'Canada': [36155487],\n",
       " 'Central African Republic': [4998000],\n",
       " 'Chile': [18191900],\n",
       " 'China': [1377422166],\n",
       " 'Macao': [649100],\n",
       " 'Taiwan': [23503349],\n",
       " 'Colombia': [48759958],\n",
       " 'Costa Rica': [4890379],\n",
       " \"Côte d'Ivoire\": [22671331],\n",
       " 'Croatia': [4190669],\n",
       " 'Cuba': [11239004],\n",
       " 'Cyprus': [847000, 847000],\n",
       " 'Denmark': [5717014],\n",
       " 'Djibouti': [900000],\n",
       " 'Dominican Republic': [10075045],\n",
       " 'Ecuador': [16545799],\n",
       " 'Egypt': [91290000],\n",
       " 'Equatorial Guinea': [1222442, 1222442],\n",
       " 'Estonia': [1315944],\n",
       " 'Swaziland': [1132657, 1132657],\n",
       " 'Ethiopia': [92206005],\n",
       " 'Finland': [5491817],\n",
       " 'France': [66710000],\n",
       " 'French Guiana': [254541],\n",
       " 'Gabon': [1802278],\n",
       " 'Georgia': [3720400],\n",
       " 'South Georgia and the South Sandwich Islands': [30],\n",
       " 'Germany': [81770900],\n",
       " 'Ghana': [27670174],\n",
       " 'Greece': [10858018],\n",
       " 'Greenland': [55847],\n",
       " 'Guadeloupe': [400132],\n",
       " 'Guam': [184200],\n",
       " 'Guatemala': [16176133],\n",
       " 'Guernsey': [62999],\n",
       " 'Guinea': [12947000],\n",
       " 'Guinea-Bissau': [1547777],\n",
       " 'Papua New Guinea': [8083700],\n",
       " 'Guyana': [746900],\n",
       " 'Holy See': [451],\n",
       " 'Honduras': [8576532],\n",
       " 'Hungary': [9823000],\n",
       " 'Iceland': [334300],\n",
       " 'British Indian Ocean Territory': [3000],\n",
       " 'India': [1295210000],\n",
       " 'Indonesia': [258705000],\n",
       " 'Iran (Islamic Republic of)': [79369900],\n",
       " 'Cook Islands': [18100],\n",
       " 'Iraq': [37883543],\n",
       " 'Ireland': [6378000],\n",
       " 'United Kingdom of Great Britain and Northern Ireland': [65110000, 65110000],\n",
       " 'Israel': [8527400],\n",
       " 'Italy': [60665551],\n",
       " 'Jamaica': [2723246],\n",
       " 'Japan': [126960000],\n",
       " 'Jersey': [100800],\n",
       " 'Jordan': [9531712],\n",
       " 'Kazakhstan': [17753200],\n",
       " 'Kenya': [47251000],\n",
       " 'Republic of Kosovo': [1733842],\n",
       " 'Kuwait': [4183658],\n",
       " 'Kyrgyzstan': [6047800],\n",
       " 'Latvia': [1961600],\n",
       " 'Lebanon': [5988000],\n",
       " 'Liberia': [4615000],\n",
       " 'Liechtenstein': [37623],\n",
       " 'Lithuania': [2872294],\n",
       " 'Luxembourg': [576200, 576200],\n",
       " 'Malaysia': [31405416],\n",
       " 'Maldives': [344023],\n",
       " 'Malta': [425384],\n",
       " 'Martinique': [378243],\n",
       " 'Mauritania': [3718678],\n",
       " 'Mauritius': [1262879, 1262879],\n",
       " 'Mayotte': [226915],\n",
       " 'Mexico': [122273473],\n",
       " 'Moldova (Republic of)': [3553100],\n",
       " 'Monaco': [38400],\n",
       " 'Mongolia': [3093100],\n",
       " 'Montenegro': [621810],\n",
       " 'Morocco': [33337529],\n",
       " 'Namibia': [2324388],\n",
       " 'Nepal': [28431500],\n",
       " 'Netherlands': [17019800],\n",
       " 'New Zealand': [4697854],\n",
       " 'Nigeria': [186988000],\n",
       " 'Norway': [5223256],\n",
       " 'Oman': [4420133],\n",
       " 'Romania': [19861408, 19861408],\n",
       " 'Pakistan': [194125062],\n",
       " 'Panama': [3814672],\n",
       " 'Paraguay': [6854536],\n",
       " 'Peru': [31488700],\n",
       " 'Philippines': [103279800],\n",
       " 'Poland': [38437239],\n",
       " 'Portugal': [10374822],\n",
       " 'Puerto Rico': [3474182],\n",
       " 'Qatar': [2587564],\n",
       " 'Réunion': [840974],\n",
       " 'Russian Federation': [146599183, 146599183],\n",
       " 'Rwanda': [11553188],\n",
       " 'Saint Lucia': [186000],\n",
       " 'Saint Vincent and the Grenadines': [109991],\n",
       " 'San Marino': [33005],\n",
       " 'Saudi Arabia': [32248200],\n",
       " 'Senegal': [14799859],\n",
       " 'Serbia': [7076372],\n",
       " 'Seychelles': [91400],\n",
       " 'Singapore': [5535000],\n",
       " 'Slovakia': [5426252],\n",
       " 'Slovenia': [2064188],\n",
       " 'Somalia': [11079000],\n",
       " 'South Africa': [55653654],\n",
       " 'Spain': [46438422],\n",
       " 'Sri Lanka': [20966000],\n",
       " 'South Sudan': [12131000],\n",
       " 'Sudan': [39598700],\n",
       " 'Suriname': [541638],\n",
       " 'Sweden': [9894888],\n",
       " 'Switzerland': [8341600],\n",
       " 'Tanzania, United Republic of': [55155000],\n",
       " 'Thailand': [65327652],\n",
       " 'Bahamas': [378040],\n",
       " 'Gambia': [1882450],\n",
       " 'Togo': [7143000],\n",
       " 'Trinidad and Tobago': [1349667],\n",
       " 'Tunisia': [11154400],\n",
       " 'Turkey': [78741053],\n",
       " 'Bonaire, Sint Eustatius and Saba': [17408],\n",
       " 'Virgin Islands (U.S.)': [114743],\n",
       " 'Lesotho': [1894194],\n",
       " 'United States of America': [323947000],\n",
       " 'Ukraine': [42692393],\n",
       " 'United Arab Emirates': [9856000],\n",
       " 'Uruguay': [3480222],\n",
       " 'Uzbekistan': [31576400],\n",
       " 'Venezuela (Bolivarian Republic of)': [31028700],\n",
       " 'Viet Nam': [92700000],\n",
       " 'Zambia': [15933883]}"
      ]
     },
     "execution_count": 330,
     "metadata": {},
     "output_type": "execute_result"
    }
   ],
   "source": [
    "#Below module converts list to dictionary for test data\n",
    "cntry_population_test=list(filter(None, cntry_population_test))\n",
    "def Convert(tup, di): \n",
    "    for a, b in tup: \n",
    "        di.setdefault(a, []).append(b) \n",
    "    return di\n",
    "dictionary_test = {} \n",
    "Convert(cntry_population_test, dictionary_test)"
   ]
  },
  {
   "cell_type": "code",
   "execution_count": 331,
   "metadata": {},
   "outputs": [],
   "source": [
    "#Below module creates a new column having disctionary values for train data\n",
    "test_data['population']=test_data['Country'].apply(lambda x:str(dictionary.get(x)).replace(']','').replace('[',''))"
   ]
  },
  {
   "cell_type": "code",
   "execution_count": 453,
   "metadata": {},
   "outputs": [],
   "source": [
    "test_data['population']=test_data.population.apply(lambda x:re.sub('9498700, 9498700','9498700',x))\n",
    "test_data['population']=test_data.population.apply(lambda x:re.sub('847000, 847000','847000',x))\n",
    "test_data['population']=test_data.population.apply(lambda x:re.sub('1222442, 1222442','1222442',x))\n",
    "test_data['population']=test_data.population.apply(lambda x:re.sub('1132657, 1132657','1132657',x))\n",
    "test_data['population']=test_data.population.apply(lambda x:re.sub('65110000, 65110000','65110000',x))\n",
    "test_data['population']=test_data.population.apply(lambda x:re.sub('576200, 576200','576200',x))\n",
    "test_data['population']=test_data.population.apply(lambda x:re.sub('1262879, 1262879','1262879',x))\n",
    "test_data['population']=test_data.population.apply(lambda x:re.sub('146599183, 146599183','146599183',x))\n",
    "test_data['population']=test_data.population.apply(lambda x:re.sub('24117360, 24117360','24117360',x))\n",
    "test_data['population']=test_data.population.apply(lambda x:re.sub('411900, 411900','411900',x))\n",
    "test_data['population']=test_data.population.apply(lambda x:re.sub('8725931, 8725931','8725931',x))\n",
    "test_data['population']=test_data.population.apply(lambda x:re.sub('19861408, 19861408','19861408',x))\n",
    "test_data['population']=test_data.population.apply(lambda x:re.sub('None','0',x))\n",
    "test_data['population']=test_data['population'].astype(int)"
   ]
  },
  {
   "cell_type": "code",
   "execution_count": 327,
   "metadata": {},
   "outputs": [],
   "source": [
    "#Converting Date to timestamp and creates few more columns with week month and day\n",
    "train_data['DateTimeStamp'] = pd.to_datetime(train_data['Date'])\n",
    "train_data['Year']=train_data['DateTimeStamp'].dt.year\n",
    "train_data['Month']=train_data['DateTimeStamp'].dt.month\n",
    "train_data['WeekNumber']=train_data['DateTimeStamp'].dt.week\n",
    "train_data['Day']=train_data['DateTimeStamp'].dt.day\n",
    "test_data['DateTimeStamp']=pd.to_datetime(test_data['Date'])\n",
    "test_data['Year']=test_data['DateTimeStamp'].dt.year\n",
    "test_data['Month']=test_data['DateTimeStamp'].dt.month\n",
    "test_data['WeekNumber']=test_data['DateTimeStamp'].dt.week\n",
    "test_data['Day']=test_data['DateTimeStamp'].dt.day"
   ]
  },
  {
   "cell_type": "code",
   "execution_count": 454,
   "metadata": {},
   "outputs": [
    {
     "data": {
      "text/plain": [
       "Index(['Id', 'State', 'Country', 'Lat', 'Long', 'Date', 'ConfirmedCases',\n",
       "       'Fatalities', 'DateTimeStamp', 'WeekNumber', 'Month', 'Day',\n",
       "       'population', 'Year'],\n",
       "      dtype='object')"
      ]
     },
     "execution_count": 454,
     "metadata": {},
     "output_type": "execute_result"
    }
   ],
   "source": [
    "train_data.columns"
   ]
  },
  {
   "cell_type": "code",
   "execution_count": 455,
   "metadata": {},
   "outputs": [
    {
     "data": {
      "text/plain": [
       "Index(['Id', 'State', 'Country', 'Lat', 'Long', 'Date', 'DateTimeStamp',\n",
       "       'Year', 'Month', 'WeekNumber', 'Day', 'population'],\n",
       "      dtype='object')"
      ]
     },
     "execution_count": 455,
     "metadata": {},
     "output_type": "execute_result"
    }
   ],
   "source": [
    "test_data.columns"
   ]
  },
  {
   "cell_type": "code",
   "execution_count": 456,
   "metadata": {},
   "outputs": [],
   "source": [
    "#Selecting important attributes\n",
    "train_data_processed=train_data.iloc[:,[0,2,6,7,9,10,11,12,13]]\n",
    "test_data_processed=test_data.iloc[:,[0,2,7,8,9,10,11]]"
   ]
  },
  {
   "cell_type": "code",
   "execution_count": 458,
   "metadata": {},
   "outputs": [
    {
     "data": {
      "text/plain": [
       "Index(['Id', 'Country', 'Year', 'Month', 'WeekNumber', 'Day', 'population'], dtype='object')"
      ]
     },
     "execution_count": 458,
     "metadata": {},
     "output_type": "execute_result"
    }
   ],
   "source": [
    "test_data_processed.columns"
   ]
  },
  {
   "cell_type": "code",
   "execution_count": 338,
   "metadata": {},
   "outputs": [],
   "source": [
    "from sklearn import preprocessing"
   ]
  },
  {
   "cell_type": "code",
   "execution_count": 459,
   "metadata": {},
   "outputs": [
    {
     "name": "stderr",
     "output_type": "stream",
     "text": [
      "C:\\ProgramData\\Anaconda3\\lib\\site-packages\\pandas\\core\\indexing.py:376: SettingWithCopyWarning: \n",
      "A value is trying to be set on a copy of a slice from a DataFrame.\n",
      "Try using .loc[row_indexer,col_indexer] = value instead\n",
      "\n",
      "See the caveats in the documentation: http://pandas.pydata.org/pandas-docs/stable/user_guide/indexing.html#returning-a-view-versus-a-copy\n",
      "  self.obj[key] = _infer_fill_value(value)\n",
      "C:\\ProgramData\\Anaconda3\\lib\\site-packages\\pandas\\core\\indexing.py:494: SettingWithCopyWarning: \n",
      "A value is trying to be set on a copy of a slice from a DataFrame.\n",
      "Try using .loc[row_indexer,col_indexer] = value instead\n",
      "\n",
      "See the caveats in the documentation: http://pandas.pydata.org/pandas-docs/stable/user_guide/indexing.html#returning-a-view-versus-a-copy\n",
      "  self.obj[item] = s\n",
      "C:\\ProgramData\\Anaconda3\\lib\\site-packages\\ipykernel_launcher.py:5: SettingWithCopyWarning: \n",
      "A value is trying to be set on a copy of a slice from a DataFrame.\n",
      "Try using .loc[row_indexer,col_indexer] = value instead\n",
      "\n",
      "See the caveats in the documentation: http://pandas.pydata.org/pandas-docs/stable/user_guide/indexing.html#returning-a-view-versus-a-copy\n",
      "  \"\"\"\n",
      "C:\\ProgramData\\Anaconda3\\lib\\site-packages\\ipykernel_launcher.py:8: SettingWithCopyWarning: \n",
      "A value is trying to be set on a copy of a slice from a DataFrame.\n",
      "Try using .loc[row_indexer,col_indexer] = value instead\n",
      "\n",
      "See the caveats in the documentation: http://pandas.pydata.org/pandas-docs/stable/user_guide/indexing.html#returning-a-view-versus-a-copy\n",
      "  \n"
     ]
    }
   ],
   "source": [
    "#Performing frequency enconding on country\n",
    "fe_train=train_data_processed.groupby('Country').size()/len(train_data_processed)\n",
    "fe_test=train_data_processed.groupby('Country').size()/len(train_data_processed)\n",
    "train_data_processed.loc[:,'Country_Encode']=train_data_processed['Country'].map(fe_train)\n",
    "train_data_processed[\"Country_Encode\"]=((train_data_processed[\"Country_Encode\"]-train_data_processed[\"Country_Encode\"].min())/(train_data_processed[\"Country_Encode\"].max()-train_data_processed[\"Country_Encode\"].min()))*20\n",
    "fe=test_data_processed.groupby('Country').size()/len(test_data_processed)\n",
    "test_data_processed.loc[:,'Country_Encode']=test_data_processed['Country'].map(fe_test)\n",
    "test_data_processed[\"Country_Encode\"]=((test_data_processed[\"Country_Encode\"]-test_data_processed[\"Country_Encode\"].min())/(test_data_processed[\"Country_Encode\"].max()-test_data_processed[\"Country_Encode\"].min()))*20"
   ]
  },
  {
   "cell_type": "code",
   "execution_count": 341,
   "metadata": {},
   "outputs": [
    {
     "data": {
      "text/html": [
       "<div>\n",
       "<style scoped>\n",
       "    .dataframe tbody tr th:only-of-type {\n",
       "        vertical-align: middle;\n",
       "    }\n",
       "\n",
       "    .dataframe tbody tr th {\n",
       "        vertical-align: top;\n",
       "    }\n",
       "\n",
       "    .dataframe thead th {\n",
       "        text-align: right;\n",
       "    }\n",
       "</style>\n",
       "<table border=\"1\" class=\"dataframe\">\n",
       "  <thead>\n",
       "    <tr style=\"text-align: right;\">\n",
       "      <th></th>\n",
       "      <th>Id</th>\n",
       "      <th>Country</th>\n",
       "      <th>ConfirmedCases</th>\n",
       "      <th>Fatalities</th>\n",
       "      <th>WeekNumber</th>\n",
       "      <th>Month</th>\n",
       "      <th>Day</th>\n",
       "      <th>population</th>\n",
       "      <th>Year</th>\n",
       "      <th>Country_Encode</th>\n",
       "    </tr>\n",
       "  </thead>\n",
       "  <tbody>\n",
       "    <tr>\n",
       "      <td>17319</td>\n",
       "      <td>26376</td>\n",
       "      <td>Zambia</td>\n",
       "      <td>2.0</td>\n",
       "      <td>0.0</td>\n",
       "      <td>12</td>\n",
       "      <td>3</td>\n",
       "      <td>18</td>\n",
       "      <td>15933883</td>\n",
       "      <td>2020</td>\n",
       "      <td>0.0</td>\n",
       "    </tr>\n",
       "    <tr>\n",
       "      <td>17320</td>\n",
       "      <td>26377</td>\n",
       "      <td>Zambia</td>\n",
       "      <td>2.0</td>\n",
       "      <td>0.0</td>\n",
       "      <td>12</td>\n",
       "      <td>3</td>\n",
       "      <td>19</td>\n",
       "      <td>15933883</td>\n",
       "      <td>2020</td>\n",
       "      <td>0.0</td>\n",
       "    </tr>\n",
       "    <tr>\n",
       "      <td>17321</td>\n",
       "      <td>26378</td>\n",
       "      <td>Zambia</td>\n",
       "      <td>2.0</td>\n",
       "      <td>0.0</td>\n",
       "      <td>12</td>\n",
       "      <td>3</td>\n",
       "      <td>20</td>\n",
       "      <td>15933883</td>\n",
       "      <td>2020</td>\n",
       "      <td>0.0</td>\n",
       "    </tr>\n",
       "    <tr>\n",
       "      <td>17322</td>\n",
       "      <td>26379</td>\n",
       "      <td>Zambia</td>\n",
       "      <td>2.0</td>\n",
       "      <td>0.0</td>\n",
       "      <td>12</td>\n",
       "      <td>3</td>\n",
       "      <td>21</td>\n",
       "      <td>15933883</td>\n",
       "      <td>2020</td>\n",
       "      <td>0.0</td>\n",
       "    </tr>\n",
       "    <tr>\n",
       "      <td>17323</td>\n",
       "      <td>26380</td>\n",
       "      <td>Zambia</td>\n",
       "      <td>3.0</td>\n",
       "      <td>0.0</td>\n",
       "      <td>12</td>\n",
       "      <td>3</td>\n",
       "      <td>22</td>\n",
       "      <td>15933883</td>\n",
       "      <td>2020</td>\n",
       "      <td>0.0</td>\n",
       "    </tr>\n",
       "  </tbody>\n",
       "</table>\n",
       "</div>"
      ],
      "text/plain": [
       "          Id Country  ConfirmedCases  Fatalities  WeekNumber  Month  Day  \\\n",
       "17319  26376  Zambia             2.0         0.0          12      3   18   \n",
       "17320  26377  Zambia             2.0         0.0          12      3   19   \n",
       "17321  26378  Zambia             2.0         0.0          12      3   20   \n",
       "17322  26379  Zambia             2.0         0.0          12      3   21   \n",
       "17323  26380  Zambia             3.0         0.0          12      3   22   \n",
       "\n",
       "      population  Year  Country_Encode  \n",
       "17319   15933883  2020             0.0  \n",
       "17320   15933883  2020             0.0  \n",
       "17321   15933883  2020             0.0  \n",
       "17322   15933883  2020             0.0  \n",
       "17323   15933883  2020             0.0  "
      ]
     },
     "execution_count": 341,
     "metadata": {},
     "output_type": "execute_result"
    }
   ],
   "source": [
    "train_data_processed.tail()"
   ]
  },
  {
   "cell_type": "code",
   "execution_count": 462,
   "metadata": {},
   "outputs": [
    {
     "data": {
      "text/plain": [
       "Index(['Id', 'Country', 'Year', 'Month', 'WeekNumber', 'Day', 'population',\n",
       "       'Country_Encode'],\n",
       "      dtype='object')"
      ]
     },
     "execution_count": 462,
     "metadata": {},
     "output_type": "execute_result"
    }
   ],
   "source": [
    "test_data_processed.columns"
   ]
  },
  {
   "cell_type": "code",
   "execution_count": 463,
   "metadata": {},
   "outputs": [],
   "source": [
    "numeric_train_set=train_data_processed.iloc[:,[0,2,3,4,5,6,7,8,9]]\n",
    "numeric_test_set=test_data_processed.iloc[:,[0,2,3,4,5,6,7]]"
   ]
  },
  {
   "cell_type": "code",
   "execution_count": 361,
   "metadata": {},
   "outputs": [],
   "source": [
    "numeric_train_set=numeric_train_set.dropna(subset=['population'])\n",
    "numeric_test_set=numeric_test_set.dropna(subset=['population'])"
   ]
  },
  {
   "cell_type": "code",
   "execution_count": 362,
   "metadata": {},
   "outputs": [
    {
     "data": {
      "text/plain": [
       "(12212, 7)"
      ]
     },
     "execution_count": 362,
     "metadata": {},
     "output_type": "execute_result"
    }
   ],
   "source": [
    "numeric_train_set.shape\n",
    "numeric_test_set.shape"
   ]
  },
  {
   "cell_type": "code",
   "execution_count": 464,
   "metadata": {},
   "outputs": [],
   "source": [
    "from sklearn import linear_model\n",
    "from sklearn.linear_model import Lasso\n",
    "import numpy as np\n",
    "from sklearn.metrics import r2_score\n",
    "from sklearn.metrics import mean_squared_error\n",
    "from sklearn.model_selection import train_test_split"
   ]
  },
  {
   "cell_type": "code",
   "execution_count": 506,
   "metadata": {},
   "outputs": [],
   "source": [
    "predictors=[\"Id\",\"Month\",\"WeekNumber\",\"Day\",\"Country_Encode\",\"population\"]\n",
    "target_column=[\"Fatalities\"]"
   ]
  },
  {
   "cell_type": "code",
   "execution_count": 469,
   "metadata": {},
   "outputs": [],
   "source": [
    "X_train, X_test, y_train, y_test = train_test_split(numeric_train_set[predictors].values, numeric_train_set[target_column].values, test_size=0.20, random_state=40)"
   ]
  },
  {
   "cell_type": "code",
   "execution_count": 470,
   "metadata": {},
   "outputs": [
    {
     "name": "stdout",
     "output_type": "stream",
     "text": [
      "(13859, 7)\n",
      "(3465, 7)\n"
     ]
    }
   ],
   "source": [
    "print(X_train.shape)\n",
    "print(X_test.shape)"
   ]
  },
  {
   "cell_type": "code",
   "execution_count": 471,
   "metadata": {},
   "outputs": [
    {
     "name": "stdout",
     "output_type": "stream",
     "text": [
      "42.88486513415265\n",
      "0.9199261176245843\n",
      "72.00165451977105\n",
      "0.8224437047875492\n"
     ]
    }
   ],
   "source": [
    "model_lasso = Lasso(alpha=0.01,normalize=True)\n",
    "model_lasso.fit(X_train, y_train) \n",
    "pred_train_lasso= model_lasso.predict(X_train)\n",
    "print(np.sqrt(mean_squared_error(y_train,pred_train_lasso)))\n",
    "print(r2_score(y_train, pred_train_lasso))\n",
    "\n",
    "pred_test_lasso= model_lasso.predict(X_test)\n",
    "print(np.sqrt(mean_squared_error(y_test,pred_test_lasso))) \n",
    "print(r2_score(y_test, pred_test_lasso))"
   ]
  },
  {
   "cell_type": "code",
   "execution_count": 110,
   "metadata": {},
   "outputs": [
    {
     "name": "stdout",
     "output_type": "stream",
     "text": [
      "[19.79109211]\n",
      "[-9.96322146e-04  6.00247107e+01]\n"
     ]
    }
   ],
   "source": [
    "print(model_lasso.intercept_)\n",
    "print(model_lasso.coef_)"
   ]
  },
  {
   "cell_type": "code",
   "execution_count": 142,
   "metadata": {},
   "outputs": [],
   "source": [
    "numeric_test_set['Fatalities']=0\n",
    "numeric_test_set['ConfirmedCases']=0"
   ]
  },
  {
   "cell_type": "code",
   "execution_count": 104,
   "metadata": {},
   "outputs": [
    {
     "data": {
      "text/plain": [
       "array([[1.73300000e+04, 3.52112676e-03],\n",
       "       [1.09920000e+04, 3.52112676e-03],\n",
       "       [4.93500000e+03, 1.16197183e-01],\n",
       "       ...,\n",
       "       [1.74290000e+04, 3.52112676e-03],\n",
       "       [2.30020000e+04, 2.04225352e-01],\n",
       "       [5.06100000e+03, 1.16197183e-01]])"
      ]
     },
     "execution_count": 104,
     "metadata": {},
     "output_type": "execute_result"
    }
   ],
   "source": [
    "X_test"
   ]
  },
  {
   "cell_type": "code",
   "execution_count": 147,
   "metadata": {},
   "outputs": [
    {
     "name": "stdout",
     "output_type": "stream",
     "text": [
      "2.4682130372722293\n",
      "0.0\n"
     ]
    }
   ],
   "source": [
    "pred_test_lasso= model_lasso.predict(numeric_test_set[predictors].values)\n",
    "print(np.sqrt(mean_squared_error(numeric_test_set[target_column].values,pred_test_lasso))) \n",
    "print(r2_score(numeric_test_set[target_column].values, pred_test_lasso))"
   ]
  },
  {
   "cell_type": "code",
   "execution_count": 145,
   "metadata": {},
   "outputs": [
    {
     "data": {
      "text/plain": [
       "12212"
      ]
     },
     "execution_count": 145,
     "metadata": {},
     "output_type": "execute_result"
    }
   ],
   "source": [
    "len(pred_test_lasso)"
   ]
  },
  {
   "cell_type": "code",
   "execution_count": 148,
   "metadata": {},
   "outputs": [],
   "source": [
    "\n",
    "from sklearn.metrics import accuracy_score\n",
    "from sklearn.metrics import log_loss\n",
    "from sklearn.metrics import mean_squared_log_error"
   ]
  },
  {
   "cell_type": "code",
   "execution_count": 472,
   "metadata": {},
   "outputs": [
    {
     "ename": "KeyError",
     "evalue": "\"None of [Index(['Fatalities'], dtype='object')] are in the [columns]\"",
     "output_type": "error",
     "traceback": [
      "\u001b[1;31m---------------------------------------------------------------------------\u001b[0m",
      "\u001b[1;31mKeyError\u001b[0m                                  Traceback (most recent call last)",
      "\u001b[1;32m<ipython-input-472-304cc3553c8b>\u001b[0m in \u001b[0;36m<module>\u001b[1;34m\u001b[0m\n\u001b[1;32m----> 1\u001b[1;33m \u001b[0mnp\u001b[0m\u001b[1;33m.\u001b[0m\u001b[0msqrt\u001b[0m\u001b[1;33m(\u001b[0m\u001b[0mmean_squared_log_error\u001b[0m\u001b[1;33m(\u001b[0m \u001b[0mnumeric_test_set\u001b[0m\u001b[1;33m[\u001b[0m\u001b[0mtarget_column\u001b[0m\u001b[1;33m]\u001b[0m\u001b[1;33m.\u001b[0m\u001b[0mvalues\u001b[0m\u001b[1;33m,\u001b[0m \u001b[0mpred_test_lasso\u001b[0m \u001b[1;33m)\u001b[0m\u001b[1;33m)\u001b[0m\u001b[1;33m\u001b[0m\u001b[1;33m\u001b[0m\u001b[0m\n\u001b[0m",
      "\u001b[1;32mC:\\ProgramData\\Anaconda3\\lib\\site-packages\\pandas\\core\\frame.py\u001b[0m in \u001b[0;36m__getitem__\u001b[1;34m(self, key)\u001b[0m\n\u001b[0;32m   2984\u001b[0m             \u001b[1;32mif\u001b[0m \u001b[0mis_iterator\u001b[0m\u001b[1;33m(\u001b[0m\u001b[0mkey\u001b[0m\u001b[1;33m)\u001b[0m\u001b[1;33m:\u001b[0m\u001b[1;33m\u001b[0m\u001b[1;33m\u001b[0m\u001b[0m\n\u001b[0;32m   2985\u001b[0m                 \u001b[0mkey\u001b[0m \u001b[1;33m=\u001b[0m \u001b[0mlist\u001b[0m\u001b[1;33m(\u001b[0m\u001b[0mkey\u001b[0m\u001b[1;33m)\u001b[0m\u001b[1;33m\u001b[0m\u001b[1;33m\u001b[0m\u001b[0m\n\u001b[1;32m-> 2986\u001b[1;33m             \u001b[0mindexer\u001b[0m \u001b[1;33m=\u001b[0m \u001b[0mself\u001b[0m\u001b[1;33m.\u001b[0m\u001b[0mloc\u001b[0m\u001b[1;33m.\u001b[0m\u001b[0m_convert_to_indexer\u001b[0m\u001b[1;33m(\u001b[0m\u001b[0mkey\u001b[0m\u001b[1;33m,\u001b[0m \u001b[0maxis\u001b[0m\u001b[1;33m=\u001b[0m\u001b[1;36m1\u001b[0m\u001b[1;33m,\u001b[0m \u001b[0mraise_missing\u001b[0m\u001b[1;33m=\u001b[0m\u001b[1;32mTrue\u001b[0m\u001b[1;33m)\u001b[0m\u001b[1;33m\u001b[0m\u001b[1;33m\u001b[0m\u001b[0m\n\u001b[0m\u001b[0;32m   2987\u001b[0m \u001b[1;33m\u001b[0m\u001b[0m\n\u001b[0;32m   2988\u001b[0m         \u001b[1;31m# take() does not accept boolean indexers\u001b[0m\u001b[1;33m\u001b[0m\u001b[1;33m\u001b[0m\u001b[1;33m\u001b[0m\u001b[0m\n",
      "\u001b[1;32mC:\\ProgramData\\Anaconda3\\lib\\site-packages\\pandas\\core\\indexing.py\u001b[0m in \u001b[0;36m_convert_to_indexer\u001b[1;34m(self, obj, axis, is_setter, raise_missing)\u001b[0m\n\u001b[0;32m   1283\u001b[0m                 \u001b[1;31m# When setting, missing keys are not allowed, even with .loc:\u001b[0m\u001b[1;33m\u001b[0m\u001b[1;33m\u001b[0m\u001b[1;33m\u001b[0m\u001b[0m\n\u001b[0;32m   1284\u001b[0m                 \u001b[0mkwargs\u001b[0m \u001b[1;33m=\u001b[0m \u001b[1;33m{\u001b[0m\u001b[1;34m\"raise_missing\"\u001b[0m\u001b[1;33m:\u001b[0m \u001b[1;32mTrue\u001b[0m \u001b[1;32mif\u001b[0m \u001b[0mis_setter\u001b[0m \u001b[1;32melse\u001b[0m \u001b[0mraise_missing\u001b[0m\u001b[1;33m}\u001b[0m\u001b[1;33m\u001b[0m\u001b[1;33m\u001b[0m\u001b[0m\n\u001b[1;32m-> 1285\u001b[1;33m                 \u001b[1;32mreturn\u001b[0m \u001b[0mself\u001b[0m\u001b[1;33m.\u001b[0m\u001b[0m_get_listlike_indexer\u001b[0m\u001b[1;33m(\u001b[0m\u001b[0mobj\u001b[0m\u001b[1;33m,\u001b[0m \u001b[0maxis\u001b[0m\u001b[1;33m,\u001b[0m \u001b[1;33m**\u001b[0m\u001b[0mkwargs\u001b[0m\u001b[1;33m)\u001b[0m\u001b[1;33m[\u001b[0m\u001b[1;36m1\u001b[0m\u001b[1;33m]\u001b[0m\u001b[1;33m\u001b[0m\u001b[1;33m\u001b[0m\u001b[0m\n\u001b[0m\u001b[0;32m   1286\u001b[0m         \u001b[1;32melse\u001b[0m\u001b[1;33m:\u001b[0m\u001b[1;33m\u001b[0m\u001b[1;33m\u001b[0m\u001b[0m\n\u001b[0;32m   1287\u001b[0m             \u001b[1;32mtry\u001b[0m\u001b[1;33m:\u001b[0m\u001b[1;33m\u001b[0m\u001b[1;33m\u001b[0m\u001b[0m\n",
      "\u001b[1;32mC:\\ProgramData\\Anaconda3\\lib\\site-packages\\pandas\\core\\indexing.py\u001b[0m in \u001b[0;36m_get_listlike_indexer\u001b[1;34m(self, key, axis, raise_missing)\u001b[0m\n\u001b[0;32m   1090\u001b[0m \u001b[1;33m\u001b[0m\u001b[0m\n\u001b[0;32m   1091\u001b[0m         self._validate_read_indexer(\n\u001b[1;32m-> 1092\u001b[1;33m             \u001b[0mkeyarr\u001b[0m\u001b[1;33m,\u001b[0m \u001b[0mindexer\u001b[0m\u001b[1;33m,\u001b[0m \u001b[0mo\u001b[0m\u001b[1;33m.\u001b[0m\u001b[0m_get_axis_number\u001b[0m\u001b[1;33m(\u001b[0m\u001b[0maxis\u001b[0m\u001b[1;33m)\u001b[0m\u001b[1;33m,\u001b[0m \u001b[0mraise_missing\u001b[0m\u001b[1;33m=\u001b[0m\u001b[0mraise_missing\u001b[0m\u001b[1;33m\u001b[0m\u001b[1;33m\u001b[0m\u001b[0m\n\u001b[0m\u001b[0;32m   1093\u001b[0m         )\n\u001b[0;32m   1094\u001b[0m         \u001b[1;32mreturn\u001b[0m \u001b[0mkeyarr\u001b[0m\u001b[1;33m,\u001b[0m \u001b[0mindexer\u001b[0m\u001b[1;33m\u001b[0m\u001b[1;33m\u001b[0m\u001b[0m\n",
      "\u001b[1;32mC:\\ProgramData\\Anaconda3\\lib\\site-packages\\pandas\\core\\indexing.py\u001b[0m in \u001b[0;36m_validate_read_indexer\u001b[1;34m(self, key, indexer, axis, raise_missing)\u001b[0m\n\u001b[0;32m   1175\u001b[0m                 raise KeyError(\n\u001b[0;32m   1176\u001b[0m                     \"None of [{key}] are in the [{axis}]\".format(\n\u001b[1;32m-> 1177\u001b[1;33m                         \u001b[0mkey\u001b[0m\u001b[1;33m=\u001b[0m\u001b[0mkey\u001b[0m\u001b[1;33m,\u001b[0m \u001b[0maxis\u001b[0m\u001b[1;33m=\u001b[0m\u001b[0mself\u001b[0m\u001b[1;33m.\u001b[0m\u001b[0mobj\u001b[0m\u001b[1;33m.\u001b[0m\u001b[0m_get_axis_name\u001b[0m\u001b[1;33m(\u001b[0m\u001b[0maxis\u001b[0m\u001b[1;33m)\u001b[0m\u001b[1;33m\u001b[0m\u001b[1;33m\u001b[0m\u001b[0m\n\u001b[0m\u001b[0;32m   1178\u001b[0m                     )\n\u001b[0;32m   1179\u001b[0m                 )\n",
      "\u001b[1;31mKeyError\u001b[0m: \"None of [Index(['Fatalities'], dtype='object')] are in the [columns]\""
     ]
    }
   ],
   "source": [
    "np.sqrt(mean_squared_log_error( numeric_test_set[target_column].values, pred_test_lasso ))"
   ]
  },
  {
   "cell_type": "code",
   "execution_count": 484,
   "metadata": {},
   "outputs": [],
   "source": [
    "def normalize(dataset):\n",
    "    dataNorm=((dataset-dataset.min())/(dataset.max()-dataset.min()))*1\n",
    "    dataNorm[\"Id\"]=dataset[\"Id\"]\n",
    "    return dataNorm"
   ]
  },
  {
   "cell_type": "code",
   "execution_count": 507,
   "metadata": {},
   "outputs": [],
   "source": [
    "X_train_gam, X_test_gam, y_train_gam, y_test_gam = train_test_split(data[predictors].values, data[target_column].values, test_size=0.20, random_state=40)"
   ]
  },
  {
   "cell_type": "code",
   "execution_count": 508,
   "metadata": {},
   "outputs": [
    {
     "data": {
      "text/html": [
       "<div>\n",
       "<style scoped>\n",
       "    .dataframe tbody tr th:only-of-type {\n",
       "        vertical-align: middle;\n",
       "    }\n",
       "\n",
       "    .dataframe tbody tr th {\n",
       "        vertical-align: top;\n",
       "    }\n",
       "\n",
       "    .dataframe thead th {\n",
       "        text-align: right;\n",
       "    }\n",
       "</style>\n",
       "<table border=\"1\" class=\"dataframe\">\n",
       "  <thead>\n",
       "    <tr style=\"text-align: right;\">\n",
       "      <th></th>\n",
       "      <th>Id</th>\n",
       "      <th>ConfirmedCases</th>\n",
       "      <th>Fatalities</th>\n",
       "      <th>WeekNumber</th>\n",
       "      <th>Month</th>\n",
       "      <th>Day</th>\n",
       "      <th>population</th>\n",
       "      <th>Year</th>\n",
       "      <th>Country_Encode</th>\n",
       "    </tr>\n",
       "  </thead>\n",
       "  <tbody>\n",
       "    <tr>\n",
       "      <td>13749</td>\n",
       "      <td>20950</td>\n",
       "      <td>0.000000</td>\n",
       "      <td>0.0</td>\n",
       "      <td>0.375</td>\n",
       "      <td>0.5</td>\n",
       "      <td>0.466667</td>\n",
       "      <td>0.000000</td>\n",
       "      <td>NaN</td>\n",
       "      <td>1.000000</td>\n",
       "    </tr>\n",
       "    <tr>\n",
       "      <td>3478</td>\n",
       "      <td>5303</td>\n",
       "      <td>0.000000</td>\n",
       "      <td>0.0</td>\n",
       "      <td>0.000</td>\n",
       "      <td>0.0</td>\n",
       "      <td>0.733333</td>\n",
       "      <td>1.000000</td>\n",
       "      <td>NaN</td>\n",
       "      <td>0.561404</td>\n",
       "    </tr>\n",
       "    <tr>\n",
       "      <td>16194</td>\n",
       "      <td>24675</td>\n",
       "      <td>0.000000</td>\n",
       "      <td>0.0</td>\n",
       "      <td>0.500</td>\n",
       "      <td>0.5</td>\n",
       "      <td>0.633333</td>\n",
       "      <td>0.000000</td>\n",
       "      <td>NaN</td>\n",
       "      <td>1.000000</td>\n",
       "    </tr>\n",
       "    <tr>\n",
       "      <td>17136</td>\n",
       "      <td>26097</td>\n",
       "      <td>0.000221</td>\n",
       "      <td>0.0</td>\n",
       "      <td>1.000</td>\n",
       "      <td>1.0</td>\n",
       "      <td>0.566667</td>\n",
       "      <td>0.022924</td>\n",
       "      <td>NaN</td>\n",
       "      <td>0.000000</td>\n",
       "    </tr>\n",
       "    <tr>\n",
       "      <td>14365</td>\n",
       "      <td>21886</td>\n",
       "      <td>0.000000</td>\n",
       "      <td>0.0</td>\n",
       "      <td>0.500</td>\n",
       "      <td>0.5</td>\n",
       "      <td>0.666667</td>\n",
       "      <td>0.000000</td>\n",
       "      <td>NaN</td>\n",
       "      <td>1.000000</td>\n",
       "    </tr>\n",
       "  </tbody>\n",
       "</table>\n",
       "</div>"
      ],
      "text/plain": [
       "          Id  ConfirmedCases  Fatalities  WeekNumber  Month       Day  \\\n",
       "13749  20950        0.000000         0.0       0.375    0.5  0.466667   \n",
       "3478    5303        0.000000         0.0       0.000    0.0  0.733333   \n",
       "16194  24675        0.000000         0.0       0.500    0.5  0.633333   \n",
       "17136  26097        0.000221         0.0       1.000    1.0  0.566667   \n",
       "14365  21886        0.000000         0.0       0.500    0.5  0.666667   \n",
       "\n",
       "       population  Year  Country_Encode  \n",
       "13749    0.000000   NaN        1.000000  \n",
       "3478     1.000000   NaN        0.561404  \n",
       "16194    0.000000   NaN        1.000000  \n",
       "17136    0.022924   NaN        0.000000  \n",
       "14365    0.000000   NaN        1.000000  "
      ]
     },
     "execution_count": 508,
     "metadata": {},
     "output_type": "execute_result"
    }
   ],
   "source": [
    "data=normalize(numeric_train_set)\n",
    "data.sample(5)"
   ]
  },
  {
   "cell_type": "code",
   "execution_count": 494,
   "metadata": {},
   "outputs": [],
   "source": [
    "from pygam import LinearGAM, s, f\n",
    "from pygam import PoissonGAM, s, te\n",
    "import matplotlib.pyplot as plt\n",
    "from mpl_toolkits import mplot3d"
   ]
  },
  {
   "cell_type": "code",
   "execution_count": 648,
   "metadata": {},
   "outputs": [],
   "source": [
    "gam = PoissonGAM(s(0, n_splines=1000) + te(3,5) +s(1)+s(2)).fit(X_train_gam, y_train_gam)"
   ]
  },
  {
   "cell_type": "code",
   "execution_count": 649,
   "metadata": {},
   "outputs": [
    {
     "data": {
      "text/plain": [
       "<mpl_toolkits.mplot3d.art3d.Poly3DCollection at 0x27abdb02d48>"
      ]
     },
     "execution_count": 649,
     "metadata": {},
     "output_type": "execute_result"
    },
    {
     "data": {
      "image/png": "[encoded data removed]",
      "text/plain": [
       "<Figure size 864x576 with 1 Axes>"
      ]
     },
     "metadata": {
      "needs_background": "light"
     },
     "output_type": "display_data"
    }
   ],
   "source": [
    "plt.ion()\n",
    "plt.rcParams['figure.figsize'] = (12, 8)\n",
    "plt.ion()\n",
    "plt.rcParams['figure.figsize'] = (12, 8)\n",
    "XX = gam.generate_X_grid(term=1, meshgrid=True)\n",
    "Z = gam.partial_dependence(term=1, X=XX, meshgrid=True)\n",
    "\n",
    "ax = plt.axes(projection='3d')\n",
    "ax.plot_surface(XX[0], XX[1], Z, cmap='viridis')"
   ]
  },
  {
   "cell_type": "code",
   "execution_count": 650,
   "metadata": {},
   "outputs": [
    {
     "name": "stdout",
     "output_type": "stream",
     "text": [
      "PoissonGAM                                                                                                \n",
      "=============================================== ==========================================================\n",
      "Distribution:                       PoissonDist Effective DoF:                                     84.5722\n",
      "Link Function:                          LogLink Log Likelihood:                                   -38.5295\n",
      "Number of Samples:                        13859 AIC:                                              246.2033\n",
      "                                                AICc:                                             247.2791\n",
      "                                                UBRE:                                               2.0179\n",
      "                                                Scale:                                                 1.0\n",
      "                                                Pseudo R-Squared:                                   0.9585\n",
      "==========================================================================================================\n",
      "Feature Function                  Lambda               Rank         EDoF         P > x        Sig. Code   \n",
      "================================= ==================== ============ ============ ============ ============\n",
      "s(0)                              [0.6]                1000         77.0         1.00e+00                 \n",
      "te(3, 5)                          [0.6 0.6]            100          5.5          1.00e+00                 \n",
      "s(1)                              [0.6]                20           0.8          8.73e-01                 \n",
      "s(2)                              [0.6]                20           1.3          1.00e+00                 \n",
      "intercept                                              1            0.0          1.33e-03     **          \n",
      "==========================================================================================================\n",
      "Significance codes:  0 '***' 0.001 '**' 0.01 '*' 0.05 '.' 0.1 ' ' 1\n",
      "\n",
      "WARNING: Fitting splines and a linear function to a feature introduces a model identifiability problem\n",
      "         which can cause p-values to appear significant when they are not.\n",
      "\n",
      "WARNING: p-values calculated in this manner behave correctly for un-penalized models or models with\n",
      "         known smoothing parameters, but when smoothing parameters have been estimated, the p-values\n",
      "         are typically lower than they should be, meaning that the tests reject the null too readily.\n"
     ]
    },
    {
     "name": "stderr",
     "output_type": "stream",
     "text": [
      "C:\\ProgramData\\Anaconda3\\lib\\site-packages\\ipykernel_launcher.py:1: UserWarning: KNOWN BUG: p-values computed in this summary are likely much smaller than they should be. \n",
      " \n",
      "Please do not make inferences based on these values! \n",
      "\n",
      "Collaborate on a solution, and stay up to date at: \n",
      "github.com/dswah/pyGAM/issues/163 \n",
      "\n",
      "  \"\"\"Entry point for launching an IPython kernel.\n"
     ]
    }
   ],
   "source": [
    "gam.summary()"
   ]
  },
  {
   "cell_type": "code",
   "execution_count": 651,
   "metadata": {},
   "outputs": [
    {
     "name": "stdout",
     "output_type": "stream",
     "text": [
      "0.006559096557735282\n",
      "0.009994293472799088\n",
      "0.8974153934347081\n"
     ]
    }
   ],
   "source": [
    "from sklearn.metrics import accuracy_score\n",
    "from sklearn.metrics import mean_squared_log_error\n",
    "from sklearn.metrics import log_loss\n",
    "predictions = gam.predict(X_test_gam)\n",
    "print(np.sqrt(mean_squared_log_error( y_test_gam, predictions )))\n",
    "print(np.sqrt(mean_squared_error(y_test_gam,predictions))) \n",
    "print(r2_score(y_test_gam, predictions))"
   ]
  },
  {
   "cell_type": "code",
   "execution_count": 652,
   "metadata": {},
   "outputs": [
    {
     "data": {
      "image/png": "[encoded data removed]",
      "text/plain": [
       "<Figure size 864x576 with 1 Axes>"
      ]
     },
     "metadata": {
      "needs_background": "light"
     },
     "output_type": "display_data"
    }
   ],
   "source": [
    "fig, ax = plt.subplots()\n",
    "ax.scatter(y_test_gam, predictions)\n",
    "ax.plot([y.min(), y.max()], [y.min(), y.max()], 'k--', lw=2)\n",
    "ax.set_xlabel('Measured')\n",
    "ax.set_ylabel('Predicted')\n",
    "plt.show()"
   ]
  },
  {
   "cell_type": "code",
   "execution_count": 653,
   "metadata": {},
   "outputs": [
    {
     "data": {
      "text/html": [
       "<div>\n",
       "<style scoped>\n",
       "    .dataframe tbody tr th:only-of-type {\n",
       "        vertical-align: middle;\n",
       "    }\n",
       "\n",
       "    .dataframe tbody tr th {\n",
       "        vertical-align: top;\n",
       "    }\n",
       "\n",
       "    .dataframe thead th {\n",
       "        text-align: right;\n",
       "    }\n",
       "</style>\n",
       "<table border=\"1\" class=\"dataframe\">\n",
       "  <thead>\n",
       "    <tr style=\"text-align: right;\">\n",
       "      <th></th>\n",
       "      <th>Actual</th>\n",
       "      <th>Predicted</th>\n",
       "    </tr>\n",
       "  </thead>\n",
       "  <tbody>\n",
       "    <tr>\n",
       "      <td>0</td>\n",
       "      <td>0.000000</td>\n",
       "      <td>1.723487e-05</td>\n",
       "    </tr>\n",
       "    <tr>\n",
       "      <td>1</td>\n",
       "      <td>0.000000</td>\n",
       "      <td>1.354348e-06</td>\n",
       "    </tr>\n",
       "    <tr>\n",
       "      <td>2</td>\n",
       "      <td>0.000000</td>\n",
       "      <td>1.786380e-05</td>\n",
       "    </tr>\n",
       "    <tr>\n",
       "      <td>3</td>\n",
       "      <td>0.000000</td>\n",
       "      <td>7.102982e-06</td>\n",
       "    </tr>\n",
       "    <tr>\n",
       "      <td>4</td>\n",
       "      <td>0.000000</td>\n",
       "      <td>2.269185e-05</td>\n",
       "    </tr>\n",
       "    <tr>\n",
       "      <td>...</td>\n",
       "      <td>...</td>\n",
       "      <td>...</td>\n",
       "    </tr>\n",
       "    <tr>\n",
       "      <td>3460</td>\n",
       "      <td>0.000000</td>\n",
       "      <td>2.622008e-04</td>\n",
       "    </tr>\n",
       "    <tr>\n",
       "      <td>3461</td>\n",
       "      <td>0.000000</td>\n",
       "      <td>2.784567e-07</td>\n",
       "    </tr>\n",
       "    <tr>\n",
       "      <td>3462</td>\n",
       "      <td>0.000000</td>\n",
       "      <td>2.259022e-05</td>\n",
       "    </tr>\n",
       "    <tr>\n",
       "      <td>3463</td>\n",
       "      <td>0.000000</td>\n",
       "      <td>9.583281e-05</td>\n",
       "    </tr>\n",
       "    <tr>\n",
       "      <td>3464</td>\n",
       "      <td>0.000365</td>\n",
       "      <td>5.188163e-04</td>\n",
       "    </tr>\n",
       "  </tbody>\n",
       "</table>\n",
       "<p>3465 rows × 2 columns</p>\n",
       "</div>"
      ],
      "text/plain": [
       "        Actual     Predicted\n",
       "0     0.000000  1.723487e-05\n",
       "1     0.000000  1.354348e-06\n",
       "2     0.000000  1.786380e-05\n",
       "3     0.000000  7.102982e-06\n",
       "4     0.000000  2.269185e-05\n",
       "...        ...           ...\n",
       "3460  0.000000  2.622008e-04\n",
       "3461  0.000000  2.784567e-07\n",
       "3462  0.000000  2.259022e-05\n",
       "3463  0.000000  9.583281e-05\n",
       "3464  0.000365  5.188163e-04\n",
       "\n",
       "[3465 rows x 2 columns]"
      ]
     },
     "execution_count": 653,
     "metadata": {},
     "output_type": "execute_result"
    }
   ],
   "source": [
    "df = pd.DataFrame({'Actual': y_test_gam.flatten(), 'Predicted': predictions.flatten()})\n",
    "df"
   ]
  },
  {
   "cell_type": "code",
   "execution_count": 654,
   "metadata": {},
   "outputs": [
    {
     "data": {
      "image/png": "[encoded data removed]",
      "text/plain": [
       "<Figure size 1152x720 with 1 Axes>"
      ]
     },
     "metadata": {
      "needs_background": "light"
     },
     "output_type": "display_data"
    }
   ],
   "source": [
    "df1 = df.head(25)\n",
    "df1.plot(kind='bar',figsize=(16,10))\n",
    "plt.grid(which='major', linestyle='-', linewidth='0.5', color='green')\n",
    "plt.grid(which='minor', linestyle=':', linewidth='0.5', color='black')\n",
    "plt.show()"
   ]
  },
  {
   "cell_type": "code",
   "execution_count": 655,
   "metadata": {},
   "outputs": [],
   "source": [
    "predictions = gam.predict(numeric_test_set[predictors].values)"
   ]
  },
  {
   "cell_type": "code",
   "execution_count": 656,
   "metadata": {},
   "outputs": [
    {
     "data": {
      "text/plain": [
       "12212"
      ]
     },
     "execution_count": 656,
     "metadata": {},
     "output_type": "execute_result"
    }
   ],
   "source": [
    "len(predictions)"
   ]
  },
  {
   "cell_type": "code",
   "execution_count": null,
   "metadata": {},
   "outputs": [],
   "source": []
  }
 ],
 "metadata": {
  "kernelspec": {
   "display_name": "Python 3",
   "language": "python",
   "name": "python3"
  },
  "language_info": {
   "codemirror_mode": {
    "name": "ipython",
    "version": 3
   },
   "file_extension": ".py",
   "mimetype": "text/x-python",
   "name": "python",
   "nbconvert_exporter": "python",
   "pygments_lexer": "ipython3",
   "version": "3.7.4"
  }
 },
 "nbformat": 4,
 "nbformat_minor": 2
}
